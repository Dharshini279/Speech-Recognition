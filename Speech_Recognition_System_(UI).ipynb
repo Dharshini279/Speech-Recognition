{
  "cells": [
    {
      "cell_type": "markdown",
      "metadata": {
        "id": "view-in-github",
        "colab_type": "text"
      },
      "source": [
        "<a href=\"https://colab.research.google.com/github/Dharshini279/Speech-Recognition/blob/main/Speech_Recognition_System_(UI).ipynb\" target=\"_parent\"><img src=\"https://colab.research.google.com/assets/colab-badge.svg\" alt=\"Open In Colab\"/></a>"
      ]
    },
    {
      "cell_type": "code",
      "execution_count": null,
      "metadata": {
        "id": "CuP3rKt_IL3D"
      },
      "outputs": [],
      "source": [
        "!pip install gradio"
      ]
    },
    {
      "cell_type": "code",
      "execution_count": null,
      "metadata": {
        "id": "5tQgh7-AH6yN"
      },
      "outputs": [],
      "source": [
        "import gradio as gr\n",
        "import torch\n",
        "import torchaudio\n",
        "from transformers import Wav2Vec2ForCTC, Wav2Vec2Processor"
      ]
    },
    {
      "cell_type": "code",
      "execution_count": null,
      "metadata": {
        "id": "4h0p8RSz4EUC"
      },
      "outputs": [],
      "source": [
        "processor = Wav2Vec2Processor.from_pretrained(\"facebook/wav2vec2-base-960h\")\n",
        "model = Wav2Vec2ForCTC.from_pretrained(\"facebook/wav2vec2-base-960h\")\n",
        "model.eval()"
      ]
    },
    {
      "cell_type": "code",
      "execution_count": null,
      "metadata": {
        "id": "aWMxHWACIaUu"
      },
      "outputs": [],
      "source": [
        "def transcribe_audio(audio_tensor):\n",
        "    sample_rate, data = audio_tensor\n",
        "    audio_tensor = torch.tensor(data)\n",
        "    audio_tensor = audio_tensor.to(torch.float32)\n",
        "    if len(audio_tensor.shape) > 1:\n",
        "        audio_tensor = audio_tensor.mean(dim=0, keepdim=True)\n",
        "    if audio_tensor.shape[0] < 16000:\n",
        "        return \"Audio too short. Please upload at least 1 second of audio.\"\n",
        "    if sample_rate != 16000:\n",
        "        resampler = torchaudio.transforms.Resample(orig_freq=sample_rate, new_freq=16000)\n",
        "        audio_tensor = resampler(audio_tensor)\n",
        "        sample_rate=16000\n",
        "    input_values = processor(audio_tensor.squeeze().numpy(), sampling_rate=16000, return_tensors=\"pt\", padding=True).input_values\n",
        "    with torch.no_grad():\n",
        "        logits = model(input_values).logits\n",
        "    predicted_ids = torch.argmax(logits, dim=-1)\n",
        "    transcription = processor.decode(predicted_ids[0])\n",
        "    return transcription"
      ]
    },
    {
      "cell_type": "code",
      "execution_count": null,
      "metadata": {
        "id": "fhvkuOfmIcJr"
      },
      "outputs": [],
      "source": [
        "gr.Interface(fn=transcribe_audio, inputs=\"audio\", outputs=\"text\").launch(share=True, debug=True)"
      ]
    }
  ],
  "metadata": {
    "colab": {
      "provenance": [],
      "authorship_tag": "ABX9TyOtgkBs09vbHHkPGB1WVHLi",
      "include_colab_link": true
    },
    "kernelspec": {
      "display_name": "Python 3",
      "name": "python3"
    },
    "language_info": {
      "name": "python"
    }
  },
  "nbformat": 4,
  "nbformat_minor": 0
}